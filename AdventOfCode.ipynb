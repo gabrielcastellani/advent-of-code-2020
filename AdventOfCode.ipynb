{
  "nbformat": 4,
  "nbformat_minor": 0,
  "metadata": {
    "colab": {
      "name": "AdventOfCode.ipynb",
      "provenance": [],
      "collapsed_sections": [],
      "authorship_tag": "ABX9TyNPbQpxr1RyI1wGE5gUnkdI",
      "include_colab_link": true
    },
    "kernelspec": {
      "name": "python3",
      "display_name": "Python 3"
    }
  },
  "cells": [
    {
      "cell_type": "markdown",
      "metadata": {
        "id": "view-in-github",
        "colab_type": "text"
      },
      "source": [
        "<a href=\"https://colab.research.google.com/github/gabrielcastellani/advent-of-code-2020/blob/main/AdventOfCode.ipynb\" target=\"_parent\"><img src=\"https://colab.research.google.com/assets/colab-badge.svg\" alt=\"Open In Colab\"/></a>"
      ]
    },
    {
      "cell_type": "markdown",
      "metadata": {
        "id": "CWeKXd6nfaOy"
      },
      "source": [
        "# Advent of code"
      ]
    },
    {
      "cell_type": "markdown",
      "metadata": {
        "id": "VRGWxK9mffG6"
      },
      "source": [
        "## Day 1"
      ]
    },
    {
      "cell_type": "markdown",
      "metadata": {
        "id": "Ctu-Zo7vfpW1"
      },
      "source": [
        "### Part One"
      ]
    },
    {
      "cell_type": "markdown",
      "metadata": {
        "id": "20-GdgfmEWlj"
      },
      "source": [
        "After saving Christmas five years in a row, you've decided to take a vacation at a nice resort on a tropical island. Surely, Christmas will go on without you.\n",
        "\n",
        "The tropical island has its own currency and is entirely cash-only. The gold coins used there have a little picture of a starfish; the locals just call them stars. None of the currency exchanges seem to have heard of them, but somehow, you'll need to find fifty of these coins by the time you arrive so you can pay the deposit on your room.\n",
        "\n",
        "To save your vacation, you need to get all fifty stars by December 25th.\n",
        "\n",
        "Collect stars by solving puzzles. Two puzzles will be made available on each day in the Advent calendar; the second puzzle is unlocked when you complete the first. Each puzzle grants one star. Good luck!\n",
        "\n",
        "Before you leave, the Elves in accounting just need you to fix your expense report (your puzzle input); apparently, something isn't quite adding up.\n",
        "\n",
        "Specifically, they need you to find the two entries that sum to 2020 and then multiply those two numbers together.\n",
        "\n",
        "For example, suppose your expense report contained the following:\n",
        "\n",
        "*   1721\n",
        "*   979\n",
        "*   366\n",
        "*   299\n",
        "*   675\n",
        "*   1456\n",
        "\n",
        "In this list, the two entries that sum to 2020 are 1721 and 299. Multiplying them together produces 1721 * 299 = 514579, so the correct answer is 514579.\n",
        "\n",
        "Of course, your expense report is much larger. Find the two entries that sum to 2020; what do you get if you multiply them together?"
      ]
    },
    {
      "cell_type": "code",
      "metadata": {
        "id": "aDu7AYZuKTG_"
      },
      "source": [
        "input = {2008,1529,1594,1422,1518,1278,1553,1563,1911,1799,1554,1247,1256,1558,483,1228,1931,1915,1982,1823,2003,1894,1388,1925,1501,1236\n",
        ",1897,1245,1386,1967,1806,1861,1837,1895,207,2002,1688,1214,1464,1905,1936,1926,899,245,1589,1449,1190,1332,1444,2000,1210,1979\n",
        ",1472,1477,1904,1354,1930,1318,1981,1929,1763,1840,1536,1862,1262,1202,1993,1963,1872,1907,1287,1231,1387,1555,1782,1301,1468,1476\n",
        ",1908,1436,1941,1252,1824,1910,1817,1818,131,1201,1869,1357,1983,1543,1836,1860,1648,1916,1825,1875,1233,1289,1071,1355,1761,1846\n",
        ",1392,1966,1204,1906,1830,1309,1427,1347,1315,1602,1323,1461,313,1841,1857,1741,1663,1947,1600,1954,1974,1922,1884,1844,1463,1777\n",
        ",1720,1888,1874,1435,1816,1268,1901,1945,1548,1794,1886,1580,1746,1958,1495,1821,1538,1937,584,1637,1185,1540,1959,1595,1523,1919\n",
        ",1644,1478,1822,1502,1466,1617,1258,267,1855,1887,1471,1632,1726,1415,1424,841,1410,1393,1293,1927,1934,1923,1848,1847,1968,1371\n",
        ",1497,1751,1851,1882,1250,1953,2004,1420,1662,1519,1679,1369,1964,1642,1809,1609,1517,1175}"
      ],
      "execution_count": null,
      "outputs": []
    },
    {
      "cell_type": "code",
      "metadata": {
        "id": "at46WqqXf58I"
      },
      "source": [
        "def return_inputs():\n",
        "  for i in input:\n",
        "    j = 2020 - i\n",
        "    if j in input:\n",
        "      return i * j "
      ],
      "execution_count": null,
      "outputs": []
    },
    {
      "cell_type": "code",
      "metadata": {
        "colab": {
          "base_uri": "https://localhost:8080/"
        },
        "id": "PqRXKm3hD_F3",
        "outputId": "e1a7ab98-003c-4355-e872-b51dbfc013df"
      },
      "source": [
        "print('Valor encontrado =', return_inputs())"
      ],
      "execution_count": null,
      "outputs": [
        {
          "output_type": "stream",
          "text": [
            "Valor encontrado = 838624\n"
          ],
          "name": "stdout"
        }
      ]
    },
    {
      "cell_type": "markdown",
      "metadata": {
        "id": "SPBibdv0fsHo"
      },
      "source": [
        "### Part Two"
      ]
    },
    {
      "cell_type": "markdown",
      "metadata": {
        "id": "FKC1OllJMJuB"
      },
      "source": [
        "The Elves in accounting are thankful for your help; one of them even offers you a starfish coin they had left over from a past vacation. They offer you a second one if you can find three numbers in your expense report that meet the same criteria.\n",
        "\n",
        "Using the above example again, the three entries that sum to 2020 are 979, 366, and 675. Multiplying them together produces the answer, 241861950.\n",
        "\n",
        "In your expense report, what is the product of the three entries that sum to 2020?"
      ]
    },
    {
      "cell_type": "code",
      "metadata": {
        "id": "QAqHTi6DhRdX"
      },
      "source": [
        "def return_tree_inputs():\n",
        "  for i in input:\n",
        "    for j in input:\n",
        "      k = 2020 - (i + j)\n",
        "      if k in input:\n",
        "        return i * j * k"
      ],
      "execution_count": null,
      "outputs": []
    },
    {
      "cell_type": "code",
      "metadata": {
        "colab": {
          "base_uri": "https://localhost:8080/"
        },
        "id": "zXo8x_nsLmYw",
        "outputId": "f6599b57-bd26-4921-9d1d-f0fa29978997"
      },
      "source": [
        "print('Valor encontrado =', return_tree_inputs())"
      ],
      "execution_count": null,
      "outputs": [
        {
          "output_type": "stream",
          "text": [
            "Valor encontrado = 52764180\n"
          ],
          "name": "stdout"
        }
      ]
    }
  ]
}